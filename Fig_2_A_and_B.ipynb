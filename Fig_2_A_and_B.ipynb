{
 "cells": [
  {
   "cell_type": "code",
   "execution_count": 1,
   "id": "8493d029",
   "metadata": {},
   "outputs": [],
   "source": [
    "import os\n",
    "\n",
    "import pandas as pd\n",
    "import matplotlib.pyplot as plt\n",
    "import matplotlib\n",
    "import numpy as np\n",
    "import scipy.stats as stats\n",
    "\n",
    "main_font = {'family' : 'Arial',\n",
    "        'weight' : 'normal',\n",
    "        'size'   : 10}\n",
    "matplotlib.rc('font', **main_font)\n",
    "\n",
    "cm = 1/2.54 \n",
    "\n",
    "def box_violin(data, position, color, ax):\n",
    "\n",
    "    if not isinstance(position, list):\n",
    "        position = [position]\n",
    "    #plot violin\n",
    "    parts = ax.violinplot(data, positions=position, vert=True,\n",
    "                showmeans=False, showmedians=False,showextrema=False)\n",
    "    for pc in parts['bodies']:\n",
    "        pc.set_facecolor(color)\n",
    "        pc.set_alpha(0.4)\n",
    "\n",
    "    # plot boxplot\n",
    "    ax.boxplot(data, positions=position, vert=True,\n",
    "               showmeans=False, meanline=False, patch_artist=True,\n",
    "               boxprops=dict(facecolor=color, color='k', linewidth=0.5),\n",
    "               medianprops=dict(color='k' ),\n",
    "               whiskerprops=dict(linewidth=0.5),\n",
    "               flierprops =dict(markersize=1, marker='o'),\n",
    "               # meanprops=dict(color='k',linestyle = ':')\n",
    "               )"
   ]
  },
  {
   "cell_type": "code",
   "execution_count": 63,
   "id": "63b62b59",
   "metadata": {},
   "outputs": [
    {
     "name": "stdout",
     "output_type": "stream",
     "text": [
      "WilcoxonResult(statistic=2487.0, pvalue=0.12274131772677464)\n"
     ]
    },
    {
     "data": {
      "image/png": "[encoded data removed]",
      "text/plain": [
       "<Figure size 481.89x226.772 with 1 Axes>"
      ]
     },
     "metadata": {
      "needs_background": "light"
     },
     "output_type": "display_data"
    }
   ],
   "source": [
    "def set_up(x_ticks):\n",
    "    # set up the figure \n",
    "    fig, ax = plt.subplots(1,1, figsize= (17*cm, 8*cm) )\n",
    "    plt.subplots_adjust(left=0.09, bottom=0.3, right=0.5, top=.93, wspace=0.1, hspace=None)\n",
    "\n",
    "    ax.set_yticks([.1,.2,.3,.4,.5,.6,.7,.8,.9,1])\n",
    "    ax.set_yticklabels([.1,'',.3,'',.5,'',.7,'',.9, ''])\n",
    "    ax.grid(which='major', color='#666666', linestyle='-', axis='y', alpha=0.5)\n",
    "    ax.set_ylabel('DSC$_p$')\n",
    "\n",
    "    \n",
    "    ax.set(xticks=x_ticks, \n",
    "           xticklabels=['']*len(x_ticks),\n",
    "           xlim = (min(x_ticks)-.5, max(x_ticks)+.5))\n",
    "    return fig, ax\n",
    "\n",
    "positions = [1,1.5,2,  3, 3.5,4]\n",
    "fig, ax = set_up(positions)\n",
    "\n",
    "data= {}\n",
    "data['T2w_train'] = pd.read_csv(r'D:\\BiGART_results\\bigart_55_56_57_58_59_patient.csv')['f1_score'].to_list()\n",
    "data['T2w_test'] = pd.read_csv(r'D:\\BiGART_results\\bigart_55_prediction_test_voted.csv')['f1_score'].to_list()\n",
    "data['T2w_comb'] = data['T2w_train'] + data['T2w_test']\n",
    "\n",
    "\n",
    "data['T2w+DW_train'] = pd.read_csv(r'D:\\BiGART_results\\bigart_10_11_12_13_14_patient.csv')['f1_score'].to_list()\n",
    "data['T2w+DW_test'] = pd.read_csv(r'D:\\BiGART_results\\bigart_10_prediction_test_voted.csv')['f1_score'].to_list()\n",
    "data['T2w+DW_comb'] = data['T2w+DW_train'] + data['T2w+DW_test']\n",
    "\n",
    "colors = ['#fdbe85', '#fd8d3c','#e6550d', '#bdd7e7', '#6baed6','#3182bd',]\n",
    "\n",
    "for d, p, c in zip(data.keys(), positions, colors):\n",
    "    box_violin(data[d], p, c, ax)\n",
    "    ax.text(p, -0.1, '{:.02}'.format(np.median(data[d])), ha='center')\n",
    "    ax.text(p, -0.2, '{:.02}'.format(np.quantile(data[d], 0.75)\n",
    "                                     -np.quantile(data[d],0.25) ), ha='center')\n",
    "    ax.text(p, -0.3, d.split('_')[1], ha='center')\n",
    "    \n",
    "    if d.endswith('_test'):\n",
    "        ax.text(p, -.41, d.split('_')[0], ha='center', fontweight='bold')\n",
    "    \n",
    "\n",
    "ax.text(0.3,-0.1, 'M',ha='left')\n",
    "ax.text(0.3,-0.2, 'IQR',ha='left')\n",
    "\n",
    "\n",
    "# plt.plot(4.7, 0.9, 's', clip_on=False, markerfacecolor='#cccccc', markersize=10, markeredgecolor='k', markeredgewidth=0.5)\n",
    "# plt.text(4.8, 0.9, 'train (n={})'.format(len(data['T2w_train'])), va='center', ha='left')\n",
    "# plt.plot(4.7, 0.8, 's', clip_on=False, markerfacecolor='#969696', markersize=10, markeredgecolor='k', markeredgewidth=0.5)\n",
    "# plt.text(4.8, 0.8, 'test (n={})'.format(len(data['T2w_test'])), va='center', ha='left')\n",
    "# plt.plot(4.7, 0.7, 's', clip_on=False, markerfacecolor='#636363', markersize=10, markeredgecolor='k', markeredgewidth=0.5)\n",
    "# plt.text(4.8, 0.7, 'combined', va='center', ha='left')\n",
    "\n",
    "    \n",
    "ax.set(xticks=positions, xticklabels=[]*len(data.keys()),\n",
    "      ylim=(0,1.1))\n",
    "\n",
    "\n",
    "s = stats.wilcoxon(\n",
    "    data['T2w_comb'], data['T2w+DW_comb'],\n",
    "    zero_method='wilcox',\n",
    "    correction=False,\n",
    "    alternative='two-sided',\n",
    "    mode='auto'\n",
    ")\n",
    "\n",
    "plt.text(-0.25, 1.05, 'A', fontweight='bold', fontsize=14)\n",
    "print(s)\n",
    "plt.plot([positions[2], positions[5]], [1]*2, 'k|-', markersize=6)\n",
    "plt.text(np.mean([positions[2], positions[5]]), 1.01, 'ns (p={:.02})'.format(s.pvalue) , ha='center')\n",
    "\n",
    "\n",
    "plt.savefig('..\\Paper_2\\gfx\\Fig_2A.png', dpi=300)"
   ]
  },
  {
   "cell_type": "code",
   "execution_count": 3,
   "id": "40d67855",
   "metadata": {},
   "outputs": [],
   "source": [
    "dummy_data = [i*0.5 for i in data['T2w_train']]"
   ]
  },
  {
   "cell_type": "code",
   "execution_count": 2,
   "id": "eef61718",
   "metadata": {},
   "outputs": [],
   "source": [
    "df_T2DW = pd.read_csv('GT_variation_10.csv')\n",
    "df_T2 = pd.read_csv('GT_variation_55.csv')"
   ]
  },
  {
   "cell_type": "code",
   "execution_count": 54,
   "id": "bba34924",
   "metadata": {},
   "outputs": [
    {
     "data": {
      "image/png": "[encoded data removed]",
      "text/plain": [
       "<Figure size 481.89x226.772 with 1 Axes>"
      ]
     },
     "metadata": {
      "needs_background": "light"
     },
     "output_type": "display_data"
    }
   ],
   "source": [
    "data ={}\n",
    "data['R1_T2'] = df_T2['P_G1'].to_list()\n",
    "data['R1_T2DW'] = df_T2DW['P_G1'].to_list()\n",
    "data['R2_T2'] = df_T2['P_G2'].to_list()\n",
    "data['R2_T2DW'] = df_T2DW['P_G2'].to_list()\n",
    "data['R1_R2'] = df_T2['G1_G2'].to_list()\n",
    "\n",
    "positions = [1,1.5, 2.5,3, 4]\n",
    "fig, ax = set_up(positions)\n",
    "\n",
    "colors = ['#e6550d', '#3182bd','#e6550d', '#3182bd', '#636363']\n",
    "for d, p, c in zip(data.keys(), positions, colors):\n",
    "    box_violin(data[d], p, c, ax)\n",
    "    ax.text(p, -0.1, '{:.02}'.format(np.median(data[d])), ha='center')\n",
    "    ax.text(p, -0.2, '{:.02}'.format(np.quantile(data[d], 0.75)\n",
    "                                     -np.quantile(data[d],0.25) ), ha='center')\n",
    "    if d.endswith('_test'):\n",
    "        ax.text(p, -.31, d.split('_')[0], ha='center', fontweight='bold')\n",
    "\n",
    "ax.set(xticks=positions, xticklabels=[]*len(data.keys()),\n",
    "      ylim=(0,1.1))\n",
    "\n",
    "ax.text(0.3,-0.1, 'M',ha='left')\n",
    "ax.text(0.3,-0.2, 'IQR',ha='left')\n",
    "\n",
    "plt.text(4.7, 0.9, 'n = {}'.format(len(data['R1_R2'])), va='center', ha='left')\n",
    "plt.plot(4.7, 0.8, 's', clip_on=False, markerfacecolor='#e6550d', markersize=10, markeredgecolor='k', markeredgewidth=0.5)\n",
    "plt.text(4.8, 0.8, 'T2w', va='center', ha='left')\n",
    "plt.plot(4.7, 0.7, 's', clip_on=False, markerfacecolor='#3182bd', markersize=10, markeredgecolor='k', markeredgewidth=0.5)\n",
    "plt.text(4.8, 0.7, 'T2w + DW', va='center', ha='left')\n",
    "# plt.plot(4.7, 0.6, 's', clip_on=False, markerfacecolor='#756bb1', markersize=10, markeredgecolor='k', markeredgewidth=0.5)\n",
    "# plt.text(4.8, 0.6, 'R1 vs R2', va='center', ha='left')\n",
    "# plt.show()\n",
    "\n",
    "ax.text(1.25, -.31, 'P vs R1', ha='center', fontweight='bold')\n",
    "ax.text(2.75, -.31, 'P vs R2', ha='center', fontweight='bold')\n",
    "ax.text(4, -.31, 'R1 vs R2', ha='center', fontweight='bold')\n",
    "\n",
    "\n",
    "plt.text(0, 1, 'B', fontweight='bold', fontsize=14)\n",
    "\n",
    "plt.savefig('..\\Paper_2\\gfx\\Fig_2B.png', dpi=300)"
   ]
  },
  {
   "cell_type": "code",
   "execution_count": 64,
   "id": "9cd681a9",
   "metadata": {},
   "outputs": [
    {
     "name": "stdout",
     "output_type": "stream",
     "text": [
      "T2: WilcoxonResult(statistic=1094.0, pvalue=0.08048752713699744)\n",
      "T2DW: WilcoxonResult(statistic=1134.0, pvalue=0.12438099365028614)\n"
     ]
    },
    {
     "data": {
      "image/png": "[encoded data removed]",
      "text/plain": [
       "<Figure size 481.89x226.772 with 1 Axes>"
      ]
     },
     "metadata": {
      "needs_background": "light"
     },
     "output_type": "display_data"
    }
   ],
   "source": [
    "data ={}\n",
    "data['R1_T2'] = df_T2['P_G1'].to_list()\n",
    "data['R2_T2'] = df_T2['P_G2'].to_list()\n",
    "data['R1_T2DW'] = df_T2DW['P_G1'].to_list()\n",
    "data['R2_T2DW'] = df_T2DW['P_G2'].to_list()\n",
    "data['R1_R2'] = df_T2['G1_G2'].to_list()\n",
    "\n",
    "positions = [1,1.5, 2.5,3, 4]\n",
    "fig, ax = set_up(positions)\n",
    "\n",
    "colors = ['#e6550d', '#e6550d', '#3182bd', '#3182bd', '#636363']\n",
    "for d, p, c in zip(data.keys(), positions, colors):\n",
    "    box_violin(data[d], p, c, ax)\n",
    "    ax.text(p, -0.1, '{:.02}'.format(np.median(data[d])), ha='center')\n",
    "    ax.text(p, -0.2, '{:.02}'.format(np.quantile(data[d], 0.75)\n",
    "                                     -np.quantile(data[d],0.25) ), ha='center')\n",
    "    if not d=='R1_R2':\n",
    "        ax.text(p, -0.3, 'P-'+d.split('_')[0], ha='center')\n",
    "    else:\n",
    "        ax.text(p, -0.3, 'R1-R2', ha='center')\n",
    "\n",
    "ax.set(xticks=positions, xticklabels=[]*len(data.keys()),\n",
    "      ylim=(0,1.1))\n",
    "\n",
    "ax.text(0.3,-0.1, 'M',ha='left')\n",
    "ax.text(0.3,-0.2, 'IQR',ha='left')\n",
    "# ax.text(0.3,-0.3, 'G', ha='left')\n",
    "\n",
    "# plt.text(4.5, 1.03, 'n = {} '.format(len(data['R1_R2'])), va='center', ha='right')\n",
    "# plt.plot(4.7, 0.8, 's', clip_on=False, markerfacecolor='#e6550d', markersize=10, markeredgecolor='k', markeredgewidth=0.5)\n",
    "# plt.text(4.8, 0.8, 'T2w', va='center', ha='left')\n",
    "# plt.plot(4.7, 0.7, 's', clip_on=False, markerfacecolor='#3182bd', markersize=10, markeredgecolor='k', markeredgewidth=0.5)\n",
    "# plt.text(4.8, 0.7, 'T2w + DW', va='center', ha='left')\n",
    "\n",
    "\n",
    "ax.text(1.25, -.41, 'T2w', ha='center', fontweight='bold')\n",
    "ax.text(2.75, -.41, 'T2w+DW', ha='center', fontweight='bold')\n",
    "ax.text(4, -.41, 'IO', ha='center', fontweight='bold')\n",
    "\n",
    "\n",
    "plt.text(-0.25, 1.05, 'B', fontweight='bold', fontsize=14)\n",
    "\n",
    "\n",
    "#stat test\n",
    "s1 = stats.wilcoxon(\n",
    "    data['R1_T2'], data['R2_T2'],\n",
    "    zero_method='wilcox',\n",
    "    correction=False,\n",
    "    alternative='two-sided',\n",
    "    mode='auto'\n",
    ")\n",
    "\n",
    "print('T2:', s1)\n",
    "\n",
    "s2 = stats.wilcoxon(\n",
    "    data['R1_T2DW'], data['R2_T2DW'],\n",
    "    zero_method='wilcox',\n",
    "    correction=False,\n",
    "    alternative='two-sided',\n",
    "    mode='auto'\n",
    ")\n",
    "\n",
    "print('T2DW:', s2)\n",
    "\n",
    "\n",
    "plt.plot([positions[0], positions[1]], [1]*2, 'k|-', markersize=6)\n",
    "plt.text(np.mean([positions[0], positions[1]]), 1.03, 'ns (p={:.02})'.format(s1.pvalue) , ha='center')\n",
    "\n",
    "plt.plot([positions[2], positions[3]], [1]*2, 'k|-', markersize=6)\n",
    "plt.text(np.mean([positions[2], positions[3]]), 1.03, 'ns (p={:.02})'.format(s2.pvalue) , ha='center')\n",
    "\n",
    "\n",
    "plt.savefig('..\\Paper_2\\gfx\\Fig_2B.png', dpi=300)"
   ]
  },
  {
   "cell_type": "code",
   "execution_count": null,
   "id": "c60955db",
   "metadata": {},
   "outputs": [],
   "source": []
  }
 ],
 "metadata": {
  "kernelspec": {
   "display_name": "Python 3",
   "language": "python",
   "name": "python3"
  },
  "language_info": {
   "codemirror_mode": {
    "name": "ipython",
    "version": 3
   },
   "file_extension": ".py",
   "mimetype": "text/x-python",
   "name": "python",
   "nbconvert_exporter": "python",
   "pygments_lexer": "ipython3",
   "version": "3.8.10"
  },
  "varInspector": {
   "cols": {
    "lenName": 16,
    "lenType": 16,
    "lenVar": 40
   },
   "kernels_config": {
    "python": {
     "delete_cmd_postfix": "",
     "delete_cmd_prefix": "del ",
     "library": "var_list.py",
     "varRefreshCmd": "print(var_dic_list())"
    },
    "r": {
     "delete_cmd_postfix": ") ",
     "delete_cmd_prefix": "rm(",
     "library": "var_list.r",
     "varRefreshCmd": "cat(var_dic_list()) "
    }
   },
   "types_to_exclude": [
    "module",
    "function",
    "builtin_function_or_method",
    "instance",
    "_Feature"
   ],
   "window_display": false
  }
 },
 "nbformat": 4,
 "nbformat_minor": 5
}
