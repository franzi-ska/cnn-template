{
 "cells": [
  {
   "cell_type": "code",
   "execution_count": 1,
   "id": "617541b7",
   "metadata": {},
   "outputs": [],
   "source": [
    "import os\n",
    "\n",
    "import pandas as pd\n",
    "import matplotlib.pyplot as plt\n",
    "import matplotlib\n",
    "\n",
    "import numpy as np\n",
    "import scipy.stats as stats\n",
    "\n",
    "main_font = {'family' : 'Arial',\n",
    "        'weight' : 'normal',\n",
    "        'size'   : 10}\n",
    "matplotlib.rc('font', **main_font)\n",
    "\n",
    "cm = 1/2.54 "
   ]
  },
  {
   "cell_type": "code",
   "execution_count": 2,
   "id": "68f0f1f3",
   "metadata": {},
   "outputs": [],
   "source": [
    "def box_violin(data, position, color, ax):\n",
    "\n",
    "    if not isinstance(position, list):\n",
    "        position = [position]\n",
    "    #plot violin\n",
    "    parts = ax.violinplot(data, positions=position, vert=True,\n",
    "                showmeans=False, showmedians=False,showextrema=False)\n",
    "    for pc in parts['bodies']:\n",
    "        pc.set_facecolor(color)\n",
    "        pc.set_alpha(0.4)\n",
    "\n",
    "    # plot boxplot\n",
    "    ax.boxplot(data, positions=position, vert=True,\n",
    "               showmeans=False, meanline=False, patch_artist=True,\n",
    "               boxprops=dict(facecolor=color, color='k', linewidth=0.5),\n",
    "               medianprops=dict(color='k' ),\n",
    "               whiskerprops=dict(linewidth=0.5),\n",
    "               flierprops =dict(markersize=1, marker='o'),\n",
    "               # meanprops=dict(color='k',linestyle = ':')\n",
    "               )"
   ]
  },
  {
   "cell_type": "code",
   "execution_count": 3,
   "id": "03ded697",
   "metadata": {},
   "outputs": [],
   "source": [
    "def set_up():\n",
    "    # set up the figure \n",
    "    fig, ax = plt.subplots(1,2, figsize= (14*cm, 9*cm), sharey=True )\n",
    "    plt.subplots_adjust(left=0.1, bottom=0.3, right=0.99, top=.93, wspace=0.1, hspace=None)\n",
    "\n",
    "    ax[0].set_yticks([.1,.2,.3,.4,.5,.6,.7,.8,.9,1])\n",
    "    ax[0].set_yticklabels([.1,'',.3,'',.5,'',.7,'',.9, ''])\n",
    "    [a.grid(which='major', color='#666666', linestyle='-', axis='y', alpha=0.5) for a in ax]\n",
    "    ax[0].set_ylabel('DSC$_p$')\n",
    "\n",
    "    x_ticks=[1,1.5, 2.5,3]\n",
    "    [a.set(xticks=x_ticks, \n",
    "           xticklabels=['']*len(x_ticks),\n",
    "           xlim = (min(x_ticks)-.5, max(x_ticks)+.5)) for a in ax]\n",
    "    return fig, ax, x_ticks\n",
    "    "
   ]
  },
  {
   "cell_type": "code",
   "execution_count": 4,
   "id": "6e5668ec",
   "metadata": {},
   "outputs": [
    {
     "data": {
      "image/png": "[encoded data removed]",
      "text/plain": [
       "<Figure size 396.85x255.118 with 2 Axes>"
      ]
     },
     "metadata": {
      "needs_background": "light"
     },
     "output_type": "display_data"
    }
   ],
   "source": [
    "data_T2 = [[],[],[], []]\n",
    "data_T2[0] = pd.read_csv(r'D:\\BiGART_results\\bigart_55_56_57_58_59_patient.csv')['f1_score']\n",
    "data_T2[1] = pd.read_csv(r'D:\\BiGART_results\\bigart_55_prediction_test_voted.csv')['f1_score']\n",
    "data_T2[2] = pd.read_csv(r'D:\\BiGART_results\\bigart_55_56_57_58_59_patient_otherDelineation.csv')['f1_score']\n",
    "data_T2[3] = pd.read_csv(r'D:\\BiGART_results\\voted_test_bigart_55\\patient_otherDelineation.csv')['f1_score']\n",
    "\n",
    "data_T2DW = [[],[],[], []]\n",
    "# data_T2DW[0] = pd.read_csv(r'D:\\BiGART_results\\bigart_65_66_67_68_69_patient.csv')['f1_score']\n",
    "# data_T2DW[1] = pd.read_csv(r'D:\\BiGART_results\\bigart_65_prediction_test_voted.csv')['f1_score']\n",
    "# data_T2DW[2] = pd.read_csv(r'D:\\BiGART_results\\bigart_65_66_67_68_69_patient_otherDelineation.csv')['f1_score']\n",
    "\n",
    "data_T2DW[0] = pd.read_csv(r'D:\\BiGART_results\\bigart_10_11_12_13_14_patient.csv')['f1_score']\n",
    "data_T2DW[1] = pd.read_csv(r'D:\\BiGART_results\\bigart_10_prediction_test_voted.csv')['f1_score']\n",
    "data_T2DW[2] = pd.read_csv(r'D:\\BiGART_results\\bigart_10_11_12_13_14_patient_otherDelineation.csv')['f1_score']\n",
    "data_T2DW[3] = pd.read_csv(r'D:\\BiGART_results\\voted_test_bigart_10\\patient_otherDelineation.csv')['f1_score']\n",
    "\n",
    "colors_T2 = ('#a1dab4', '#358751' , '#a1dab4', '#358751')\n",
    "colors_DW  =('#41b6c4', '#287781', '#41b6c4', '#287781')\n",
    "\n",
    "\n",
    "fig, ax, positions = set_up()\n",
    "\n",
    "for d, p, c in zip(data_T2, positions, colors_T2):\n",
    "    box_violin(d.to_list(), p, c, ax[0])\n",
    "    \n",
    "    ds = d.describe()\n",
    "    ax[0].text(p, -0.1, '{:.02}'.format(ds['50%']), ha='center')\n",
    "    ax[0].text(p, -0.2, '{:.02}'.format(ds['75%']-ds['25%']), ha='center')\n",
    "    ax[0].text(p, -0.3, '{}'.format(int(ds['count'])) ,ha='center')\n",
    "ax[0].text(0.3,-0.1, 'M',ha='right')\n",
    "ax[0].text(0.3,-0.2, 'IQR',ha='right')\n",
    "ax[0].text(0.3,-0.3, 'n',ha='right')\n",
    "\n",
    "ax[0].text(1.25, -0.4, 'G=R1', ha='center', fontweight='bold')\n",
    "ax[0].text(2.75, -0.4, 'G=R2', ha='center', fontweight='bold')\n",
    "\n",
    "for d, p, c in zip(data_T2DW, positions, colors_DW):\n",
    "    if len(d) >0:\n",
    "        box_violin(d.to_list(), p, c, ax[1])\n",
    "        ds = d.describe()\n",
    "        ax[1].text(p, -0.1, '{:.02}'.format(ds['50%']), ha='center')\n",
    "        ax[1].text(p, -0.2, '{:.02}'.format(ds['75%']-ds['25%']), ha='center')\n",
    "        ax[1].text(p, -0.3, '{}'.format(int(ds['count'])) ,ha='center')\n",
    "\n",
    "\n",
    "ax[1].text(1.25, -0.4, 'G=R1', ha='center', fontweight='bold')\n",
    "ax[1].text(2.75, -0.4, 'G=R2', ha='center', fontweight='bold')\n",
    "\n",
    "[a.set(xticks=positions, \n",
    "           xticklabels=['']*len(positions),\n",
    "           xlim = (min(positions)-.5, max(positions)+.5),\n",
    "            ylim=(0,1.15)) for a in ax]\n",
    "\n",
    "ax[0].set_title('T2w')\n",
    "ax[1].set_title('T2w+DW')\n",
    "\n",
    "plt.savefig('Fig_2.pdf',\n",
    "               dpi=300)"
   ]
  },
  {
   "cell_type": "code",
   "execution_count": 8,
   "id": "2f92eaae",
   "metadata": {},
   "outputs": [
    {
     "name": "stdout",
     "output_type": "stream",
     "text": [
      "T2:\t M=0.76,\tIQR=0.16\n",
      "T2+DW:\t M=0.77,\tIQR=0.15\n",
      "WilcoxonResult(statistic=2487.0, pvalue=0.12274131772677464)\n"
     ]
    }
   ],
   "source": [
    "def comb_train_test(train, test):\n",
    "    return train.to_list()+test.to_list()\n",
    "\n",
    "d_R1_T2 = comb_train_test(data_T2[0], data_T2[1])\n",
    "d_R1_T2DW = comb_train_test(data_T2DW[0], data_T2DW[1])\n",
    "\n",
    "s = stats.wilcoxon(\n",
    "    d_R1_T2, d_R1_T2DW,\n",
    "    zero_method='wilcox',\n",
    "    correction=False,\n",
    "    alternative='two-sided',\n",
    "    mode='auto'\n",
    ")\n",
    "\n",
    "print('T2:\\t M={:.02},\\tIQR={:.02}'.format(np.median(d_R1_T2), np.quantile(d_R1_T2, 0.75)-np.quantile(d_R1_T2, 0.25) ) )\n",
    "print('T2+DW:\\t M={:.02},\\tIQR={:.02}'.format(np.median(d_R1_T2DW), np.quantile(d_R1_T2DW, 0.75)-np.quantile(d_R1_T2DW, 0.25) ))\n",
    "print(s)\n"
   ]
  },
  {
   "cell_type": "code",
   "execution_count": 6,
   "id": "a7dc2441",
   "metadata": {},
   "outputs": [],
   "source": [
    "# TODO make a exel file and select the same subset of patients\n",
    "\n",
    "\n",
    "# d_R1_T2 = comb_train_test(data_T2[0], data_T2[1])\n",
    "# d_R2_T2 = comb_train_test(data_T2[2], data_T2[3])\n",
    "\n",
    "# s = stats.Man(\n",
    "#     d_R1_T2, d_R2_T2,\n",
    "#     zero_method='wilcox',\n",
    "#     correction=False,\n",
    "#     alternative='two-sided',\n",
    "#     mode='auto'\n",
    "# )\n",
    "\n",
    "# print('T2_R1:\\t M={:.02},\\tIQR={:.02}'.format(np.mean(d_R1_T2), np.quantile(d_R1_T2, 0.75)-np.quantile(d_R1_T2, 0.25) ) )\n",
    "# print('T2_R2:\\t M={:.02},\\tIQR={:.02}'.format(np.mean(d_R2_T2), np.quantile(d_R2_T2, 0.75)-np.quantile(d_R2_T2, 0.25) ))\n",
    "# print(s)\n"
   ]
  },
  {
   "cell_type": "code",
   "execution_count": null,
   "id": "dbdff337",
   "metadata": {},
   "outputs": [],
   "source": []
  }
 ],
 "metadata": {
  "kernelspec": {
   "display_name": "Python 3",
   "language": "python",
   "name": "python3"
  },
  "language_info": {
   "codemirror_mode": {
    "name": "ipython",
    "version": 3
   },
   "file_extension": ".py",
   "mimetype": "text/x-python",
   "name": "python",
   "nbconvert_exporter": "python",
   "pygments_lexer": "ipython3",
   "version": "3.8.10"
  },
  "varInspector": {
   "cols": {
    "lenName": 16,
    "lenType": 16,
    "lenVar": 40
   },
   "kernels_config": {
    "python": {
     "delete_cmd_postfix": "",
     "delete_cmd_prefix": "del ",
     "library": "var_list.py",
     "varRefreshCmd": "print(var_dic_list())"
    },
    "r": {
     "delete_cmd_postfix": ") ",
     "delete_cmd_prefix": "rm(",
     "library": "var_list.r",
     "varRefreshCmd": "cat(var_dic_list()) "
    }
   },
   "types_to_exclude": [
    "module",
    "function",
    "builtin_function_or_method",
    "instance",
    "_Feature"
   ],
   "window_display": false
  }
 },
 "nbformat": 4,
 "nbformat_minor": 5
}
