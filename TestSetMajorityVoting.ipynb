{
 "cells": [
  {
   "cell_type": "code",
   "execution_count": 1,
   "id": "75efa9d1",
   "metadata": {},
   "outputs": [],
   "source": [
    "import os\n",
    "\n",
    "import numpy as np\n",
    "import h5py\n",
    "import pandas as pd"
   ]
  },
  {
   "cell_type": "code",
   "execution_count": 2,
   "id": "d3d9aa07",
   "metadata": {},
   "outputs": [],
   "source": [
    "def calc_dice(X, Y):\n",
    "    if X.any() or Y.any():\n",
    "        d = 2* np.count_nonzero(np.logical_and(X, Y)) / (np.count_nonzero(X)+np.count_nonzero(Y))\n",
    "    else:\n",
    "        d=0\n",
    "    return d\n"
   ]
  },
  {
   "cell_type": "code",
   "execution_count": 5,
   "id": "36f0684b",
   "metadata": {},
   "outputs": [
    {
     "name": "stdout",
     "output_type": "stream",
     "text": [
      "created: D:\\BiGART_results\\test_voted_bigart_10.h5\n",
      "created: D:\\BiGART_results\\test_voted_bigart_55.h5\n"
     ]
    }
   ],
   "source": [
    "for idx_start in [10,55]:\n",
    "    files = [h5py.File(os.path.join('D:\\BiGART_results', '2d__bigart_test_{}'.format(idx_start+i),\n",
    "                'test', 'prediction_test.h5' ), 'r') for i in range(5)]\n",
    "\n",
    "    res_d1 = []\n",
    "\n",
    "    p_comb = []\n",
    "    x_comb = []\n",
    "    y_comb = []\n",
    "    \n",
    "    \n",
    "    \n",
    "    \n",
    "    for patient in files[0]['predicted'].keys():\n",
    "        predictions = 0.2*(files[0]['predicted'][patient][:,:,:,:] \\\n",
    "                      + files[1]['predicted'][patient][:,:,:,:]\\\n",
    "                      + files[2]['predicted'][patient][:,:,:,:]\\\n",
    "                      + files[3]['predicted'][patient][:,:,:,:]\\\n",
    "                      + files[4]['predicted'][patient][:,:,:,:]) \n",
    "\n",
    "        p_comb.append(predictions*1) \n",
    "        x_comb.append(files[0]['x'][patient][:,:,:,:] *1) #same for all files\n",
    "        y_comb.append(files[0]['y'][patient][:,:,:,:] *1) #same for all files\n",
    "\n",
    "\n",
    "        predictions = predictions>0.5 \n",
    "        \n",
    "        gt_1 = files[0]['y'][patient][:,:,:,:]\n",
    "\n",
    "        res_d1.append([patient, \n",
    "                       calc_dice(predictions.flatten(), gt_1.flatten())])\n",
    "        \n",
    "        \n",
    "    \n",
    "    new_file = os.path.join(r'D:\\BiGART_results', 'test_voted_bigart_{}.h5'.format(idx_start))\n",
    "    with h5py.File(new_file, 'w') as f:\n",
    "        f.create_dataset('predicted', data=np.concatenate(p_comb))\n",
    "        f.create_dataset('x', data= np.concatenate(x_comb))\n",
    "        f.create_dataset('y', data= np.concatenate(y_comb))\n",
    "        \n",
    "\n",
    "    pd.DataFrame(res_d1, columns=['patient_ids', 'f1_score']).to_csv(\n",
    "                    os.path.join('D:BiGART_results','bigart_{}_prediction_test_voted.csv'.format(idx_start)))\n",
    "    \n",
    "    print('created:', new_file)"
   ]
  },
  {
   "cell_type": "code",
   "execution_count": null,
   "id": "d68d26a3",
   "metadata": {},
   "outputs": [],
   "source": []
  },
  {
   "cell_type": "code",
   "execution_count": null,
   "id": "9860d8ec",
   "metadata": {},
   "outputs": [],
   "source": []
  },
  {
   "cell_type": "code",
   "execution_count": null,
   "id": "0480025c",
   "metadata": {},
   "outputs": [],
   "source": []
  },
  {
   "cell_type": "code",
   "execution_count": null,
   "id": "0e09a576",
   "metadata": {},
   "outputs": [],
   "source": []
  }
 ],
 "metadata": {
  "kernelspec": {
   "display_name": "Python 3",
   "language": "python",
   "name": "python3"
  },
  "language_info": {
   "codemirror_mode": {
    "name": "ipython",
    "version": 3
   },
   "file_extension": ".py",
   "mimetype": "text/x-python",
   "name": "python",
   "nbconvert_exporter": "python",
   "pygments_lexer": "ipython3",
   "version": "3.8.10"
  },
  "varInspector": {
   "cols": {
    "lenName": 16,
    "lenType": 16,
    "lenVar": 40
   },
   "kernels_config": {
    "python": {
     "delete_cmd_postfix": "",
     "delete_cmd_prefix": "del ",
     "library": "var_list.py",
     "varRefreshCmd": "print(var_dic_list())"
    },
    "r": {
     "delete_cmd_postfix": ") ",
     "delete_cmd_prefix": "rm(",
     "library": "var_list.r",
     "varRefreshCmd": "cat(var_dic_list()) "
    }
   },
   "types_to_exclude": [
    "module",
    "function",
    "builtin_function_or_method",
    "instance",
    "_Feature"
   ],
   "window_display": false
  }
 },
 "nbformat": 4,
 "nbformat_minor": 5
}
